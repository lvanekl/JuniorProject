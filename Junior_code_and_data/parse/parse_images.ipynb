{
 "cells": [
  {
   "cell_type": "markdown",
   "id": "d5e8781f",
   "metadata": {
    "vscode": {
     "languageId": "plaintext"
    }
   },
   "source": [
    "Для запуска этого ноутбука необходим также chromewebdriver (.exe в случае с виндовс), который используется при работе библиотеки selenium. Скачать в инете под установленную версию хром. (chromewebdriver должен лежать в этой же папке)\n",
    "\n",
    "Сам по себе этот ноутбук парсит картинки с сайта. При выполнении этой задачи возникло несколько проблем. \n",
    "1. Сайт написан на php и с него нельзя \"в тупую\" скачать картинки, потому что ссылка лежащая в src в теге img просто ведет на ту же страницу, которая и так открыта селениумом в настоящий момент.\n",
    "2. Разрешение картинок 2560x1440. Скачивать такие картинки было бы не целесообразно, тк столь высокое разрешение\n",
    "\t- занимает много памяти на пк\n",
    "\t- значительно увеличивает время обработки фотографий\n",
    "3. На сайте находится порядка 3000 картинок, перемещение между которыми можно легко осуществить заменой числа (id картинки) в url. На некоторых индексах картинки отсутствовали.\n",
    "\n",
    "В итоге я пришел к костыльному решению, которое решает все эти проблемы. \n",
    "(Надо отметить, что если картинка по ссылке была, то ее разрешение было 4:3, если не было, то 1:1. Других разрешений не было вообще, но это стало понятно только после полного скачивания всех картинок с сайта)\n",
    "\n",
    "Скачивание изображений производилось в три \"группы\". Первая - id от 0 до 100, Вторая - id от 101 до 1000, Третья - id от 1001 до 3177 (последний индекс на сайте). За это отвечают переменные start и end (индексы включены с обеих сторон).\n",
    "\n",
    "### Решение\n",
    "1. зайти на сайт\n",
    "2. в цикле перебирать индексы\n",
    "3. на каждой итерации находить картинку на сайте и проверять соотношение ее сторон\n",
    "4. если 4:3 то картинка на сайте есть\n",
    "    - Изменить окно браузера, чтобы вокруг картинки на сайте небыло рамок (оптимальный размер окна подбирался вручную)\n",
    "    - Сделать скриншот окна и сохранить\n",
    "5. если разрешение не 4:3 то картинки на сайте нет\n",
    "    - Вывести в консоль \"не 4 на 3, {отношение сторон}, {ширина}*{высота}, пропускаем id\"\n",
    "    - Сохранить id (на всякий случай)\n"
   ]
  },
  {
   "cell_type": "code",
   "execution_count": 1,
   "id": "70d9ab49",
   "metadata": {},
   "outputs": [],
   "source": [
    "# если папки images нет то ее нужно создать\n",
    "import os\n",
    "\n",
    "current_dir = os.getcwd()\n",
    "\n",
    "if not os.path.exists(current_dir+'\\\\images'):\n",
    "     os.mkdir(current_dir+'\\\\images')"
   ]
  },
  {
   "cell_type": "code",
   "execution_count": 2,
   "id": "20eb375c",
   "metadata": {},
   "outputs": [
    {
     "name": "stderr",
     "output_type": "stream",
     "text": [
      "<ipython-input-2-cbe88d4dafc3>:21: TqdmDeprecationWarning: This function will be removed in tqdm==5.0.0\n",
      "Please use `tqdm.notebook.tqdm` instead of `tqdm.tqdm_notebook`\n",
      "  for picture_number in tqdm(range(start, end+1)):\n"
     ]
    },
    {
     "data": {
      "application/vnd.jupyter.widget-view+json": {
       "model_id": "959843c3d4a644b08969935a31c85407",
       "version_major": 2,
       "version_minor": 0
      },
      "text/plain": [
       "  0%|          | 0/1 [00:00<?, ?it/s]"
      ]
     },
     "metadata": {},
     "output_type": "display_data"
    }
   ],
   "source": [
    "from selenium import webdriver\n",
    "import time\n",
    "from tqdm import tqdm_notebook as tqdm\n",
    "from url import main_url\n",
    "\n",
    "main_url2 = 'http://rds.dermatology.ru/mephi/index.php?get={}'\n",
    "\n",
    "options = webdriver.ChromeOptions()\n",
    "options.add_argument(\"--disable-blink-features=AutomationControlled\")\n",
    "\n",
    "options.add_experimental_option(\"excludeSwitches\", ['enable-automation'])\n",
    "\n",
    "driver = webdriver.Chrome(executable_path='chromedriver.exe', options=options)\n",
    "\n",
    "bad_pictures_list = {}\n",
    "\n",
    "start = 3155\n",
    "end = 3155\n",
    "try:\n",
    "    driver.get(main_url)\n",
    "    for picture_number in tqdm(range(start, end+1)):\n",
    "        try:\n",
    "            driver.get(main_url2.format(picture_number))\n",
    "            driver.set_window_size(1920, 1080)\n",
    "\n",
    "            image = driver.find_element_by_tag_name('img')\n",
    "            width = int(image.get_attribute('width'))\n",
    "            height = int(image.get_attribute('height'))\n",
    "\n",
    "            if round(width/height, 1) == 1.3:\n",
    "                driver.set_window_size(1016, 838)\n",
    "                driver.save_screenshot(f\"images/{picture_number}.png\")\n",
    "\n",
    "            else:\n",
    "                print(f'не 4 на 3, {width/height}, {width}*{height}, пропускаем {picture_number}')\n",
    "                bad_pictures_list[picture_number] = f'{width}*{height}'\n",
    "                \n",
    "                \n",
    "        except Exception as ex:\n",
    "            print(ex, 'ОШИБКА', picture_number)\n",
    "\n",
    "except Exception as ex:\n",
    "    print(ex)\n",
    "finally:\n",
    "    driver.close()\n",
    "    driver.quit()"
   ]
  },
  {
   "cell_type": "code",
   "execution_count": null,
   "id": "a4bf9ab8",
   "metadata": {},
   "outputs": [],
   "source": []
  }
 ],
 "metadata": {
  "kernelspec": {
   "display_name": "Python 3",
   "language": "python",
   "name": "python3"
  },
  "language_info": {
   "codemirror_mode": {
    "name": "ipython",
    "version": 3
   },
   "file_extension": ".py",
   "mimetype": "text/x-python",
   "name": "python",
   "nbconvert_exporter": "python",
   "pygments_lexer": "ipython3",
   "version": "3.8.8"
  }
 },
 "nbformat": 4,
 "nbformat_minor": 5
}
